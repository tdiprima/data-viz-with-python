{
 "cells": [
  {
   "cell_type": "markdown",
   "id": "483baf60",
   "metadata": {},
   "source": [
    "### python3 [yairmau hilbertcurve](https://yairmau.com/jupyter/2020/01/01/hilbertcurve)"
   ]
  },
  {
   "cell_type": "code",
   "execution_count": 2,
   "id": "963e56bd",
   "metadata": {},
   "outputs": [],
   "source": [
    "import matplotlib\n",
    "matplotlib.use('AGG')"
   ]
  },
  {
   "cell_type": "code",
   "execution_count": 3,
   "id": "4c36eb77",
   "metadata": {},
   "outputs": [],
   "source": [
    "import numpy as np\n",
    "import matplotlib.pyplot as plt\n",
    "import os"
   ]
  },
  {
   "cell_type": "code",
   "execution_count": 4,
   "id": "63a38c93",
   "metadata": {},
   "outputs": [],
   "source": [
    "def apply_rules(s):\n",
    "    \"\"\" Hilbert Curve as a Lindenmayer system (L-system)\n",
    "    https://en.wikipedia.org/wiki/Hilbert_curve#Representation_as_Lindenmayer_system\"\"\"\n",
    "    s=s.replace(\"a\",\"-Bf+AfA+fB-\")  # capital letters \"A\" and \"B\" so that the second operation\n",
    "    s=s.replace(\"b\",\"+Af-BfB-fA+\")  # doesn't apply to the changes already made\n",
    "    return s.lower() # make everyone lowercase\n",
    "\n",
    "axiom = \"a\"\n",
    "n=3 # number of iterations\n",
    "# displacements, ordered in a counter-clockwise direction\n",
    "dxdy = np.array([[ 1, 0],    # right\n",
    "                 [ 0, 1],    # up\n",
    "                 [-1, 0],    # left\n",
    "                 [ 0,-1] ])  # down\n",
    "# displacement is of size 1, so the higher n is, the greater the domain\n",
    "length = 2**n-1; margin = 0.05*length\n",
    "domain = [0-margin,length+margin,0-margin,length+margin] # a 5% margin around the curve\n",
    "s = axiom # string to iterate upon\n",
    "\n",
    "for i in np.arange(n):\n",
    "    s = apply_rules(s)"
   ]
  },
  {
   "cell_type": "code",
   "execution_count": 5,
   "id": "a469808c",
   "metadata": {},
   "outputs": [
    {
     "name": "stderr",
     "output_type": "stream",
     "text": [
      "<ipython-input-5-b2f6be3b0787>:10: UserWarning: Matplotlib is currently using agg, which is a non-GUI backend, so cannot show the figure.\n",
      "  plt.show()\n",
      "<ipython-input-5-b2f6be3b0787>:43: MatplotlibDeprecationWarning: savefig() got unexpected keyword argument \"resolution\" which is no longer supported as of 3.3 and will become an error two minor releases later\n",
      "  fig.savefig(fname,bbox_inches='tight',resolution=300)\n"
     ]
    }
   ],
   "source": [
    "make_movie=True\n",
    "plt.ion() # interactive mode disabled if \"matplotlib.use('AGG')\"\n",
    "fig = plt.figure(figsize=(6,6))\n",
    "ax = fig.add_subplot(111)\n",
    "ax.axis('off')                        # no frame\n",
    "ax.axis(domain)                       # domain size\n",
    "ax.set_aspect('equal')                # square look\n",
    "ax.set_xticks([]); ax.set_yticks([])  # no ticks\n",
    "ax.set_title(r\"$n = {:d}$\".format(n))\n",
    "plt.show()\n",
    "\n",
    "# \"a\" and \"b\" can be erased now\n",
    "s=s.replace(\"a\",\"\")\n",
    "s=s.replace(\"b\",\"\")\n",
    "\n",
    "frame_names = []  # these two are only relevant if make_movie==True\n",
    "frame_counter=0\n",
    "\n",
    "p = np.array([[0.0,0.0]]) # this is the starting point (0,0)\n",
    "p_plot, = plt.plot(p[:,0],p[:,1],color=\"black\")\n",
    "\n",
    "# iterate on the string s\n",
    "for i,c in enumerate(s):\n",
    "    # uncomment to see how fast things are going\n",
    "    # print(\"{:d}/{:d}\".format(i,len(s)))\n",
    "    \n",
    "    # rotations \"+\" and \"-\" change the displacement array dxdy\n",
    "    # \"+\" means clockwise rotation\n",
    "    if c == '+': dxdy = np.roll(dxdy,+1,axis=0)\n",
    "    # \"-\" means counter-clockwise rotation\n",
    "    if c == '-': dxdy = np.roll(dxdy,-1,axis=0)\n",
    "    # forward \"f\"\n",
    "    if c == 'f':\n",
    "        # add one more point to array p\n",
    "        p = np.vstack([p, [p[-1,0]+dxdy[0,0],p[-1,1]+dxdy[0,1]] ])\n",
    "        # update p_plot data, this is MUCH faster that plotting\n",
    "        # several line segments separately\n",
    "        p_plot.set_data(p[:,0],p[:,1])\n",
    "        fig.canvas.draw()\n",
    "        if make_movie:\n",
    "            fname = \"_tmp{:05d}.png\".format(frame_counter)\n",
    "            frame_names.append(fname)\n",
    "            fig.savefig(fname,bbox_inches='tight',resolution=300)\n",
    "        frame_counter += 1"
   ]
  },
  {
   "cell_type": "code",
   "execution_count": 6,
   "id": "1e3bcd01",
   "metadata": {},
   "outputs": [
    {
     "ename": "RuntimeError",
     "evalue": "Couldn't run mencoder.  Data in tmp*.png files",
     "output_type": "error",
     "traceback": [
      "\u001b[0;31m---------------------------------------------------------------------------\u001b[0m",
      "\u001b[0;31mRuntimeError\u001b[0m                              Traceback (most recent call last)",
      "\u001b[0;32m<ipython-input-6-ff7679f4f1d5>\u001b[0m in \u001b[0;36m<module>\u001b[0;34m\u001b[0m\n\u001b[1;32m     13\u001b[0m     \u001b[0merr\u001b[0m\u001b[0;34m=\u001b[0m\u001b[0mos\u001b[0m\u001b[0;34m.\u001b[0m\u001b[0msystem\u001b[0m\u001b[0;34m(\u001b[0m\u001b[0mmovie_command\u001b[0m\u001b[0;34m)\u001b[0m\u001b[0;34m\u001b[0m\u001b[0;34m\u001b[0m\u001b[0m\n\u001b[1;32m     14\u001b[0m     \u001b[0;32mif\u001b[0m \u001b[0merr\u001b[0m\u001b[0;34m!=\u001b[0m\u001b[0;36m0\u001b[0m\u001b[0;34m:\u001b[0m\u001b[0;34m\u001b[0m\u001b[0;34m\u001b[0m\u001b[0m\n\u001b[0;32m---> 15\u001b[0;31m         \u001b[0;32mraise\u001b[0m \u001b[0mRuntimeError\u001b[0m\u001b[0;34m(\u001b[0m\u001b[0;34m\"Couldn't run mencoder.  Data in tmp*.png files\"\u001b[0m\u001b[0;34m)\u001b[0m\u001b[0;34m\u001b[0m\u001b[0;34m\u001b[0m\u001b[0m\n\u001b[0m\u001b[1;32m     16\u001b[0m     \u001b[0;32mfor\u001b[0m \u001b[0mfname\u001b[0m \u001b[0;32min\u001b[0m \u001b[0mframe_names\u001b[0m\u001b[0;34m:\u001b[0m\u001b[0;34m\u001b[0m\u001b[0;34m\u001b[0m\u001b[0m\n\u001b[1;32m     17\u001b[0m         \u001b[0mos\u001b[0m\u001b[0;34m.\u001b[0m\u001b[0mremove\u001b[0m\u001b[0;34m(\u001b[0m\u001b[0mfname\u001b[0m\u001b[0;34m)\u001b[0m\u001b[0;34m\u001b[0m\u001b[0;34m\u001b[0m\u001b[0m\n",
      "\u001b[0;31mRuntimeError\u001b[0m: Couldn't run mencoder.  Data in tmp*.png files"
     ]
    }
   ],
   "source": [
    "if make_movie:\n",
    "    frames = \"_tmp%5d.png\"\n",
    "    # movie_command = \"mencoder mf://*.png -mf fps=24:type=png --ovc lavc -lavcopts vcodec=mpeg4:mbd=2:trell -oac copy -o hil{:d}.avi\".format(n)\n",
    "    \n",
    "    # we might have other .png figures in the directory\n",
    "    # in this case, use the code below\n",
    "    f = open(\"png_list.txt\", \"w\")\n",
    "    for i in frame_names:\n",
    "        f.write(i+\"\\n\")\n",
    "    f.close()\n",
    "    movie_command = \"mencoder mf://@png_list.txt -mf fps=24:type=png -ovc lavc -lavcopts vcodec=mpeg4:mbd=2:trell -oac copy -o hil{:d}.avi\".format(n)\n",
    "    \n",
    "    err=os.system(movie_command)\n",
    "    if err!=0:\n",
    "        raise RuntimeError(\"Couldn't run mencoder.  Data in tmp*.png files\")\n",
    "    for fname in frame_names:\n",
    "        os.remove(fname)\n",
    "    \n",
    "    # we now have one video ready.\n",
    "    # if you want to join several videos, use this:\n",
    "    # sudo apt-get install gpac\n",
    "    # MP4Box -cat part1.avi -cat part2.avi -new joinedfile.avi"
   ]
  },
  {
   "cell_type": "code",
   "execution_count": null,
   "id": "b98d086e",
   "metadata": {},
   "outputs": [],
   "source": []
  }
 ],
 "metadata": {
  "kernelspec": {
   "display_name": "Python 3",
   "language": "python",
   "name": "python3"
  },
  "language_info": {
   "codemirror_mode": {
    "name": "ipython",
    "version": 3
   },
   "file_extension": ".py",
   "mimetype": "text/x-python",
   "name": "python",
   "nbconvert_exporter": "python",
   "pygments_lexer": "ipython3",
   "version": "3.9.6"
  }
 },
 "nbformat": 4,
 "nbformat_minor": 5
}
